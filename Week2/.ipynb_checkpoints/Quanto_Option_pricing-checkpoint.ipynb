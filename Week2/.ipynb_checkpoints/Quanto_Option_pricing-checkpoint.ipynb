{
 "cells": [
  {
   "cell_type": "code",
   "execution_count": 2,
   "id": "874f5e34",
   "metadata": {},
   "outputs": [],
   "source": [
    "import numpy as np\n",
    "from scipy.stats import norm"
   ]
  },
  {
   "cell_type": "markdown",
   "id": "a6c72abc",
   "metadata": {},
   "source": [
    "## I looked up the risk-free rate from the treasury yield on 04/10/2024 with the maturity date of 12/15/2024. (The closest date I found)\n",
    "\n",
    "#### Reference: https://www.wsj.com/market-data/bonds/treasuries\n",
    "\n",
    "![alt text](TS1.png \"Title\")\n",
    "![alt text](TS2.png \"Title\")"
   ]
  },
  {
   "cell_type": "code",
   "execution_count": 8,
   "id": "8589e953",
   "metadata": {},
   "outputs": [],
   "source": [
    "S0 = 5083#Given\n",
    "K = 5083#ATM option\n",
    "r = 0.05278#looked up from the above table <= may not exactly match the date specified in the question, but I think it should be a good approximation.\n",
    "rF = 0.052#Given\n",
    "sigma_s = 0.18#Given\n",
    "sigma_F = 0.25#Given\n",
    "rho = 0.31#Given\n",
    "T = 267 / 365#There are 267 days between 3/28/2024 and 12/20/2024, ignoring settlement stuff."
   ]
  },
  {
   "cell_type": "code",
   "execution_count": 27,
   "id": "670340c8",
   "metadata": {},
   "outputs": [],
   "source": [
    "def cal_quanto_call(s, k, r, rF, sigma_s, sigma_F, rho, T):\n",
    "    \n",
    "    sigma_sqrt_T = sigma_s * np.sqrt(T)\n",
    "    d1 = (np.log(s/k) + ((rF - rho * sigma_s * sigma_F) + 0.5 * (sigma_s)**2) * T) / sigma_sqrt_T\n",
    "    d2 = d1 - sigma_sqrt_T\n",
    "    Nd1 = norm.cdf(d1)\n",
    "    Nd2 = norm.cdf(d2)\n",
    "    discount_factor = np.exp(-r*T)\n",
    "    nd1 = np.exp(-0.5 * d1**2) / np.sqrt(2 * np.pi)\n",
    "    nd2 = np.exp(-0.5 * d2**2) / np.sqrt(2 * np.pi)\n",
    "    \n",
    "    \n",
    "    Call_price = s * Nd1 - k * discount_factor * Nd2\n",
    "    Call_delta = Nd1 + (s * nd1 - k * discount_factor * nd2) / (sigma_sqrt_T * s)\n",
    "    print(\"Call Quanto Price:\", Call_price)\n",
    "    print(\"Call Quanto Delta:\", Call_delta)\n",
    "    return Call_price, Call_delta"
   ]
  },
  {
   "cell_type": "code",
   "execution_count": 28,
   "id": "538804fa",
   "metadata": {},
   "outputs": [
    {
     "name": "stdout",
     "output_type": "stream",
     "text": [
      "Call Quanto Price: 411.0446503634794\n",
      "Call Quanto Delta: 0.6285734914570592\n"
     ]
    },
    {
     "data": {
      "text/plain": [
       "(411.0446503634794, 0.6285734914570592)"
      ]
     },
     "execution_count": 28,
     "metadata": {},
     "output_type": "execute_result"
    }
   ],
   "source": [
    "cal_quanto_call(S0, K, r, rF, sigma_s, sigma_F, rho, T)"
   ]
  },
  {
   "cell_type": "code",
   "execution_count": null,
   "id": "7f1a62d1",
   "metadata": {},
   "outputs": [],
   "source": []
  }
 ],
 "metadata": {
  "kernelspec": {
   "display_name": "min",
   "language": "python",
   "name": "min"
  },
  "language_info": {
   "codemirror_mode": {
    "name": "ipython",
    "version": 3
   },
   "file_extension": ".py",
   "mimetype": "text/x-python",
   "name": "python",
   "nbconvert_exporter": "python",
   "pygments_lexer": "ipython3",
   "version": "3.9.17"
  }
 },
 "nbformat": 4,
 "nbformat_minor": 5
}
